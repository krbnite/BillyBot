{
 "cells": [
  {
   "cell_type": "code",
   "execution_count": 7,
   "metadata": {
    "ExecuteTime": {
     "end_time": "2017-07-25T13:09:57.529352Z",
     "start_time": "2017-07-25T13:09:57.522797"
    },
    "collapsed": false
   },
   "outputs": [],
   "source": [
    "# The NLTK library is required:\n",
    "#!conda install nltk\n",
    "# We will also use TextBlob:\n",
    "#!pip install textblob\n",
    "# Furthermore, in order to use TextBlob(bunchOfText).sentences, I\n",
    "#   needed to issue the following command:\n",
    "#!python -m textblob.download_corpora  \n",
    "#   -- if you need this, you will get an error message telling you so\n",
    "import random\n",
    "import logging\n",
    "import os\n",
    "\n",
    "os.environ['NLTK_DATA'] = os.getcwd() + '/nltk_data'\n",
    "\n",
    "from textblob import TextBlob\n",
    "from config import FILTER_WORDS\n",
    "\n",
    "logging.basicConfig()\n",
    "logger = logging.getLogger()\n",
    "logger.setLevel(logging.DEBUG)"
   ]
  },
  {
   "cell_type": "markdown",
   "metadata": {},
   "source": [
    "## Preprocessing\n",
    "The user is going to input a sentence. It might be messy, like \"it mIGht     be MESSY.\"\n",
    "We want to first preprocess the text so that BillyBot can understand it best!\n",
    "\n",
    "Fortunately, NLTK and TextBlob can do the heavy-lifting for us!"
   ]
  },
  {
   "cell_type": "code",
   "execution_count": 13,
   "metadata": {
    "ExecuteTime": {
     "end_time": "2017-07-25T13:29:36.738058Z",
     "start_time": "2017-07-25T13:29:36.733382"
    },
    "collapsed": true
   },
   "outputs": [],
   "source": [
    "def process_input_text(input_text):\n",
    "    \"\"\"\n",
    "    Removes extraneous white space and returns TextBlob object\n",
    "    \"\"\"\n",
    "    return TextBlob(' '.join(input_text.split()))"
   ]
  },
  {
   "cell_type": "code",
   "execution_count": 26,
   "metadata": {
    "ExecuteTime": {
     "end_time": "2017-07-25T13:37:20.493953Z",
     "start_time": "2017-07-25T13:37:20.487241"
    },
    "collapsed": false
   },
   "outputs": [
    {
     "name": "stdout",
     "output_type": "stream",
     "text": [
      "[Sentence(\"This is a sentence.\"), Sentence(\"I made a great example!\")]\n"
     ]
    }
   ],
   "source": [
    "# Example processing step\n",
    "processed_text = process_input_text('This is   a  sentence. I made a great         example!')\n",
    "print(processed_text.sentences)"
   ]
  },
  {
   "cell_type": "markdown",
   "metadata": {},
   "source": [
    "## Components of  Sentence"
   ]
  },
  {
   "cell_type": "code",
   "execution_count": null,
   "metadata": {
    "collapsed": true
   },
   "outputs": [],
   "source": [
    "def find_candidate_parts_of_speech(parsed):\n",
    "    \"\"\"\n",
    "    Given a parsed input (TextBlob object), find the best pronoun, direct noun, adjective, \n",
    "    and verb to match their input.\n",
    "    Returns a tuple of pronoun, noun, adjective, verb any of which may be None if there was \n",
    "    no good match\n",
    "    \"\"\"\n",
    "    pronoun = None\n",
    "    noun = None\n",
    "    adjective = None\n",
    "    verb = None\n",
    "    for sent in parsed.sentences:\n",
    "        pronoun = find_pronoun(sent)\n",
    "        noun = find_noun(sent)\n",
    "        adjective = find_adjective(sent)\n",
    "        verb = find_verb(sent)\n",
    "    logger.info(\"Pronoun=%s, noun=%s, adjective=%s, verb=%s\", pronoun, noun, adjective, verb)\n",
    "    return pronoun, noun, adjective, verb\n",
    "\n",
    "def find_pronoun(sent):\n",
    "    \"\"\"\n",
    "    Given a sentence (TextBlob Sentence object), find a preferred pronoun to respond with. \n",
    "    Returns None if no candidate pronoun is found in the input\n",
    "    \"\"\"\n",
    "    pronoun = None\n",
    "\n",
    "    for word, part_of_speech in sent.pos_tags:\n",
    "        # Disambiguate pronouns\n",
    "        if part_of_speech == 'PRP' and word.lower() == 'you':\n",
    "            pronoun = 'I'\n",
    "        elif part_of_speech == 'PRP' and word == 'I':\n",
    "            # If the user mentioned themselves, then they will definitely be the pronoun\n",
    "            pronoun = 'You'\n",
    "    return pronoun\n",
    "\n",
    "def find_noun(sent):\n",
    "    \"\"\"\n",
    "    Given a sentence (TextBlob Sentence object), find the best candidate noun.\n",
    "    \"\"\"\n",
    "    noun = None\n",
    "\n",
    "    if not noun:\n",
    "        for w, p in sent.pos_tags:\n",
    "            if p == 'NN':  # This is a noun\n",
    "                noun = w\n",
    "                break\n",
    "    if noun:\n",
    "        logger.info(\"Found noun: %s\", noun)\n",
    "\n",
    "    return noun\n",
    "\n",
    "def find_adjective(sent):\n",
    "    \"\"\"\n",
    "    Given a sentence (TextBlob Sentence object), find the best candidate adjective.\n",
    "    \"\"\"\n",
    "    adj = None\n",
    "    for w, p in sent.pos_tags:\n",
    "        if p == 'JJ':  # This is an adjective\n",
    "            adj = w\n",
    "            break\n",
    "    return adj\n",
    "\n",
    "def find_verb(sent):\n",
    "    \"\"\"\n",
    "    Pick a candidate verb for the sentence.\n",
    "    \"\"\"\n",
    "    verb = None\n",
    "    pos = None\n",
    "    for word, part_of_speech in sent.pos_tags:\n",
    "        if part_of_speech.startswith('VB'):  # This is a verb\n",
    "            verb = word\n",
    "            pos = part_of_speech\n",
    "            break\n",
    "    return verb, pos\n",
    "\n"
   ]
  },
  {
   "cell_type": "code",
   "execution_count": 30,
   "metadata": {
    "ExecuteTime": {
     "end_time": "2017-07-25T13:39:30.813400Z",
     "start_time": "2017-07-25T13:39:30.798895"
    },
    "collapsed": false
   },
   "outputs": [
    {
     "name": "stdout",
     "output_type": "stream",
     "text": [
      "sentences[0]: This is a sentence.\n",
      "sentences[1]: I made a great example!\n"
     ]
    }
   ],
   "source": [
    "# Examples\n",
    "sentences = processed_text.sentences\n",
    "print('sentences[0]:',sentences[0])\n",
    "print('sentences[1]:',sentences[1])\n",
    "\n",
    "# There should be no verb in the first sentence, but we should\n",
    "#   be able to isolate 'made' in the second sentence.\n",
    "find_verb()"
   ]
  },
  {
   "cell_type": "code",
   "execution_count": 8,
   "metadata": {
    "ExecuteTime": {
     "end_time": "2017-07-25T13:21:29.893015Z",
     "start_time": "2017-07-25T13:21:29.887932"
    },
    "collapsed": true
   },
   "outputs": [],
   "source": [
    "def starts_with_vowel(word):\n",
    "    \"\"\"Check for pronoun compability -- 'a' vs. 'an'\"\"\"\n",
    "    return True if word[0] in 'aeiou' else False"
   ]
  },
  {
   "cell_type": "code",
   "execution_count": 11,
   "metadata": {
    "ExecuteTime": {
     "end_time": "2017-07-25T13:22:33.317556Z",
     "start_time": "2017-07-25T13:22:33.078256"
    },
    "collapsed": false
   },
   "outputs": [
    {
     "data": {
      "text/plain": [
       "[('the', 'DT'),\n",
       " ('end', 'NN'),\n",
       " ('is', 'VBZ'),\n",
       " ('nigh', 'JJ'),\n",
       " ('oh', 'UH'),\n",
       " ('yea', 'NN')]"
      ]
     },
     "execution_count": 11,
     "metadata": {},
     "output_type": "execute_result"
    }
   ],
   "source": [
    "t.pos_tags"
   ]
  },
  {
   "cell_type": "markdown",
   "metadata": {},
   "source": [
    "## Greetings\n",
    "The simplest way to approach a greeting is rules-based: make a list of likely greetings and\n",
    "a list of potential responses.  Since this is a stateless chatbot, it won't get annoyed if you\n",
    "say \"hi\" 10,000 times! It picks its response at random.  In practice, the tutorial advises\n",
    "to cycle through the responses, or at the least hedge against immediate repeats."
   ]
  },
  {
   "cell_type": "code",
   "execution_count": 2,
   "metadata": {
    "ExecuteTime": {
     "end_time": "2017-07-25T12:46:45.083657Z",
     "start_time": "2017-07-25T12:46:45.075950"
    },
    "collapsed": true
   },
   "outputs": [],
   "source": [
    "# Sentences we'll respond with if the user greeted us\n",
    "GREETING_KEYWORDS = (\"hello\", \"hi\", \"greetings\", \"sup\", \"what's up\",)\n",
    "\n",
    "GREETING_RESPONSES = [\"What do ya want?\", \"Oh, hey.\", \"Let's make this quick. I only got about two humps left in me.\",\n",
    "                     \"You must want something.\", \"Hey, I was just about to go get some coffee.\"]\n",
    "\n",
    "def check_for_greeting(sentence):\n",
    "    \"\"\"If any of the words in the user's input was a greeting, return a greeting response\"\"\"\n",
    "    for word in sentence.words:\n",
    "        if word.lower() in GREETING_KEYWORDS:\n",
    "            return random.choice(GREETING_RESPONSES)\n",
    "\n",
    "\n",
    "# Sentences we'll respond with if we have no idea what the user just said\n",
    "NONE_RESPONSES = [\n",
    "    \"uh whatever\",\n",
    "    \"meet me at the foosball table, bro?\",\n",
    "    \"code hard bro\",\n",
    "    \"want to bro down and crush code?\",\n",
    "    \"I'd like to add you to my professional network on LinkedIn\",\n",
    "    \"Have you closed your seed round, dog?\",\n",
    "]\n",
    "#"
   ]
  },
  {
   "cell_type": "markdown",
   "metadata": {},
   "source": [
    "## ...."
   ]
  },
  {
   "cell_type": "code",
   "execution_count": 3,
   "metadata": {
    "ExecuteTime": {
     "end_time": "2017-07-25T12:46:47.857601Z",
     "start_time": "2017-07-25T12:46:47.707127"
    },
    "collapsed": false
   },
   "outputs": [
    {
     "ename": "AttributeError",
     "evalue": "'str' object has no attribute 'words'",
     "output_type": "error",
     "traceback": [
      "\u001b[0;31m---------------------------------------------------------------------------\u001b[0m",
      "\u001b[0;31mAttributeError\u001b[0m                            Traceback (most recent call last)",
      "\u001b[0;32m<ipython-input-3-304ce68b717c>\u001b[0m in \u001b[0;36m<module>\u001b[0;34m()\u001b[0m\n\u001b[0;32m----> 1\u001b[0;31m \u001b[0mcheck_for_greeting\u001b[0m\u001b[0;34m(\u001b[0m\u001b[0;34m'hi there'\u001b[0m\u001b[0;34m)\u001b[0m\u001b[0;34m\u001b[0m\u001b[0m\n\u001b[0m",
      "\u001b[0;32m<ipython-input-2-6918c74482cb>\u001b[0m in \u001b[0;36mcheck_for_greeting\u001b[0;34m(sentence)\u001b[0m\n\u001b[1;32m      7\u001b[0m \u001b[0;32mdef\u001b[0m \u001b[0mcheck_for_greeting\u001b[0m\u001b[0;34m(\u001b[0m\u001b[0msentence\u001b[0m\u001b[0;34m)\u001b[0m\u001b[0;34m:\u001b[0m\u001b[0;34m\u001b[0m\u001b[0m\n\u001b[1;32m      8\u001b[0m     \u001b[0;34m\"\"\"If any of the words in the user's input was a greeting, return a greeting response\"\"\"\u001b[0m\u001b[0;34m\u001b[0m\u001b[0m\n\u001b[0;32m----> 9\u001b[0;31m     \u001b[0;32mfor\u001b[0m \u001b[0mword\u001b[0m \u001b[0;32min\u001b[0m \u001b[0msentence\u001b[0m\u001b[0;34m.\u001b[0m\u001b[0mwords\u001b[0m\u001b[0;34m:\u001b[0m\u001b[0;34m\u001b[0m\u001b[0m\n\u001b[0m\u001b[1;32m     10\u001b[0m         \u001b[0;32mif\u001b[0m \u001b[0mword\u001b[0m\u001b[0;34m.\u001b[0m\u001b[0mlower\u001b[0m\u001b[0;34m(\u001b[0m\u001b[0;34m)\u001b[0m \u001b[0;32min\u001b[0m \u001b[0mGREETING_KEYWORDS\u001b[0m\u001b[0;34m:\u001b[0m\u001b[0;34m\u001b[0m\u001b[0m\n\u001b[1;32m     11\u001b[0m             \u001b[0;32mreturn\u001b[0m \u001b[0mrandom\u001b[0m\u001b[0;34m.\u001b[0m\u001b[0mchoice\u001b[0m\u001b[0;34m(\u001b[0m\u001b[0mGREETING_RESPONSES\u001b[0m\u001b[0;34m)\u001b[0m\u001b[0;34m\u001b[0m\u001b[0m\n",
      "\u001b[0;31mAttributeError\u001b[0m: 'str' object has no attribute 'words'"
     ]
    }
   ],
   "source": [
    "check_for_greeting('hi there')"
   ]
  },
  {
   "cell_type": "code",
   "execution_count": null,
   "metadata": {
    "collapsed": true
   },
   "outputs": [],
   "source": []
  }
 ],
 "metadata": {
  "kernelspec": {
   "display_name": "Python 3",
   "language": "python",
   "name": "python3"
  },
  "language_info": {
   "codemirror_mode": {
    "name": "ipython",
    "version": 3
   },
   "file_extension": ".py",
   "mimetype": "text/x-python",
   "name": "python",
   "nbconvert_exporter": "python",
   "pygments_lexer": "ipython3",
   "version": "3.6.0"
  },
  "latex_envs": {
   "LaTeX_envs_menu_present": true,
   "autocomplete": true,
   "bibliofile": "biblio.bib",
   "cite_by": "apalike",
   "current_citInitial": 1,
   "eqLabelWithNumbers": true,
   "eqNumInitial": 1,
   "hotkeys": {
    "equation": "Ctrl-E",
    "itemize": "Ctrl-I"
   },
   "labels_anchors": false,
   "latex_user_defs": false,
   "report_style_numbering": false,
   "user_envs_cfg": false
  }
 },
 "nbformat": 4,
 "nbformat_minor": 2
}

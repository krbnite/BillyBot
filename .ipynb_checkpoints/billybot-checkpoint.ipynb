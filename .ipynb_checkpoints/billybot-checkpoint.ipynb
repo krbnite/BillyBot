{
 "cells": [
  {
   "cell_type": "code",
   "execution_count": 23,
   "metadata": {
    "ExecuteTime": {
     "end_time": "2017-07-25T20:08:15.242618Z",
     "start_time": "2017-07-25T20:08:15.237078"
    },
    "collapsed": false
   },
   "outputs": [],
   "source": [
    "# The NLTK library is required:\n",
    "#!conda install nltk\n",
    "# We will also use TextBlob:\n",
    "#!pip install textblob\n",
    "# Furthermore, in order to use TextBlob(bunchOfText).sentences, I\n",
    "#   needed to issue the following command:\n",
    "#!python -m textblob.download_corpora  \n",
    "#   -- if you need this, you will get an error message telling you so\n",
    "import random\n",
    "import logging\n",
    "import os\n",
    "\n",
    "os.environ['NLTK_DATA'] = os.getcwd() + '/nltk_data'\n",
    "\n",
    "from textblob import TextBlob\n",
    "from config import FILTER_WORDS\n",
    "\n",
    "logging.basicConfig()\n",
    "logger = logging.getLogger()\n",
    "logger.setLevel(logging.DEBUG)"
   ]
  },
  {
   "cell_type": "markdown",
   "metadata": {},
   "source": [
    "# Preprocessing\n",
    "The user is going to input a sentence. It might be messy, like \"it mIGht     be MESSY.\"\n",
    "We want to first preprocess the text so that BillyBot can understand it best!\n",
    "\n",
    "Fortunately, NLTK and TextBlob can do the heavy-lifting for us!"
   ]
  },
  {
   "cell_type": "code",
   "execution_count": 24,
   "metadata": {
    "ExecuteTime": {
     "end_time": "2017-07-25T20:08:15.567970Z",
     "start_time": "2017-07-25T20:08:15.565179"
    },
    "collapsed": true
   },
   "outputs": [],
   "source": [
    "def process_input_text(input_text):\n",
    "    \"\"\"\n",
    "    Removes extraneous white space and returns TextBlob object\n",
    "    \"\"\"\n",
    "    return TextBlob(' '.join(input_text.split()))"
   ]
  },
  {
   "cell_type": "code",
   "execution_count": 25,
   "metadata": {
    "ExecuteTime": {
     "end_time": "2017-07-25T20:08:15.707516Z",
     "start_time": "2017-07-25T20:08:15.703610"
    },
    "collapsed": false
   },
   "outputs": [
    {
     "name": "stdout",
     "output_type": "stream",
     "text": [
      "[Sentence(\"This is a sentence.\"), Sentence(\"I made a great example!\")]\n"
     ]
    }
   ],
   "source": [
    "# Example processing step\n",
    "processed_text = process_input_text('This is   a  sentence. I made a great         example!')\n",
    "print(processed_text.sentences)"
   ]
  },
  {
   "cell_type": "markdown",
   "metadata": {},
   "source": [
    "# Grammatical Components of the Input Text\n",
    "After the input text has been processed, we can begin to understand its content.  \n",
    "One way to do this is to parse the text into some of its atomic elements: \n",
    "* is there a pronoun?\n",
    "* is there a verb?\n",
    "* what nouns are present?\n",
    "* etc\n"
   ]
  },
  {
   "cell_type": "code",
   "execution_count": 26,
   "metadata": {
    "ExecuteTime": {
     "end_time": "2017-07-25T20:08:16.032989Z",
     "start_time": "2017-07-25T20:08:15.995607"
    },
    "collapsed": true
   },
   "outputs": [],
   "source": [
    "def find_candidate_parts_of_speech(parsed):\n",
    "    \"\"\"\n",
    "    Given a parsed input (TextBlob object), find the best pronoun, direct noun, adjective, \n",
    "    and verb to match their input.\n",
    "    Returns a tuple of pronoun, noun, adjective, verb any of which may be None if there was \n",
    "    no good match\n",
    "    \"\"\"\n",
    "    pronoun = None\n",
    "    noun = None\n",
    "    adjective = None\n",
    "    verb = None\n",
    "    for sent in parsed.sentences:\n",
    "        pronoun = find_pronoun(sent)\n",
    "        noun = find_noun(sent)\n",
    "        adjective = find_adjective(sent)\n",
    "        verb = find_verb(sent)\n",
    "    logger.info(\"Pronoun=%s, noun=%s, adjective=%s, verb=%s\", pronoun, noun, adjective, verb)\n",
    "    return pronoun, noun, adjective, verb\n",
    "\n",
    "def find_pronoun(sent):\n",
    "    \"\"\"\n",
    "    Given a sentence (TextBlob Sentence object), find a preferred pronoun to respond with. \n",
    "    Returns None if no candidate pronoun is found in the input\n",
    "    \"\"\"\n",
    "    pronoun = None\n",
    "\n",
    "    for word, part_of_speech in sent.pos_tags:\n",
    "        # Disambiguate pronouns\n",
    "        if part_of_speech == 'PRP' and word.lower() == 'you':\n",
    "            pronoun = 'I'\n",
    "        elif part_of_speech == 'PRP' and word.lower() == 'i':\n",
    "            # If the user mentioned themselves, then they will definitely be the pronoun\n",
    "            pronoun = 'You'\n",
    "    return pronoun\n",
    "\n",
    "def find_noun(sent):\n",
    "    \"\"\"\n",
    "    Given a sentence (TextBlob Sentence object), find the best candidate noun.\n",
    "    \"\"\"\n",
    "    noun = None\n",
    "\n",
    "    if not noun:\n",
    "        for w, p in sent.pos_tags:\n",
    "            if p == 'NN':  # This is a noun\n",
    "                noun = w\n",
    "                break\n",
    "    if noun:\n",
    "        logger.info(\"Found noun: %s\", noun)\n",
    "\n",
    "    return noun\n",
    "\n",
    "def find_adjective(sent):\n",
    "    \"\"\"\n",
    "    Given a sentence (TextBlob Sentence object), find the best candidate adjective.\n",
    "    \"\"\"\n",
    "    adj = None\n",
    "    for w, p in sent.pos_tags:\n",
    "        if p == 'JJ':  # This is an adjective\n",
    "            adj = w\n",
    "            break\n",
    "    return adj\n",
    "\n",
    "def find_verb(sent):\n",
    "    \"\"\"\n",
    "    Pick a candidate verb for the sentence.\n",
    "    \"\"\"\n",
    "    verb = None\n",
    "    pos = None\n",
    "    for word, part_of_speech in sent.pos_tags:\n",
    "        if part_of_speech.startswith('VB'):  # This is a verb\n",
    "            verb = word\n",
    "            pos = part_of_speech\n",
    "            break\n",
    "    return verb, pos\n",
    "\n"
   ]
  },
  {
   "cell_type": "code",
   "execution_count": 27,
   "metadata": {
    "ExecuteTime": {
     "end_time": "2017-07-25T20:08:16.159018Z",
     "start_time": "2017-07-25T20:08:16.140123"
    },
    "collapsed": false
   },
   "outputs": [
    {
     "name": "stderr",
     "output_type": "stream",
     "text": [
      "INFO:root:Found noun: sentence\n",
      "INFO:root:Found noun: example\n",
      "INFO:root:Found noun: sentence\n",
      "INFO:root:Found noun: example\n",
      "INFO:root:Pronoun=You, noun=example, adjective=great, verb=('made', 'VBD')\n"
     ]
    },
    {
     "name": "stdout",
     "output_type": "stream",
     "text": [
      "sentences[0]: This is a sentence. \n",
      "sentences[1]: I made a great example!\n",
      "\n",
      "Response Pronouns\n",
      "None You\n",
      "\n",
      "Nouns\n",
      "sentence example\n",
      "\n",
      "Adjectives\n",
      "None great\n",
      "\n",
      "Verbs\n",
      "('is', 'VBZ') ('made', 'VBD')\n",
      "\n",
      "Altogether Now!\n",
      "Pronoun: You \n",
      "Noun: example \n",
      "Adjective: great \n",
      "Verb ('made', 'VBD')\n"
     ]
    }
   ],
   "source": [
    "# Examples\n",
    "sentences = processed_text.sentences\n",
    "print('sentences[0]:',sentences[0], '\\nsentences[1]:', sentences[1])\n",
    "\n",
    "print(\"\\nResponse Pronouns\")\n",
    "print(find_pronoun(sentences[0]), find_pronoun(sentences[1]))\n",
    "\n",
    "print(\"\\nNouns\")\n",
    "print(find_noun(sentences[0]), find_noun(sentences[1]))\n",
    "\n",
    "print(\"\\nAdjectives\")\n",
    "print(find_adjective(sentences[0]), find_adjective(sentences[1]))\n",
    "\n",
    "print(\"\\nVerbs\")\n",
    "print(find_verb(sentences[0]), find_verb(sentences[1]))\n",
    "\n",
    "print(\"\\nAltogether Now!\")\n",
    "pronoun, noun, adjective, verb = find_candidate_parts_of_speech(processed_text)\n",
    "print(\"Pronoun:\", pronoun, \"\\nNoun:\", noun, \"\\nAdjective:\", adjective, \"\\nVerb\", verb)"
   ]
  },
  {
   "cell_type": "markdown",
   "metadata": {},
   "source": [
    "# Differential Response\n",
    "The chatbot does not have to be able to respond to every type of input possible.\n",
    "However, it's desirable to differentiate a greeting from a question, and so on.\n",
    "In this regard, we can design several functions to determine some additional context\n",
    "of the input text and decide what type of response is likely to make the most sense."
   ]
  },
  {
   "cell_type": "markdown",
   "metadata": {},
   "source": [
    "### Respond to a Greeting\n",
    "The simplest way to approach a greeting is rules-based: make a list of likely greetings and a list of potential responses. Since this is a stateless chatbot, it won't get annoyed if you say \"hi\" 10,000 times! It picks its response at random. In practice, the tutorial advises to cycle through the responses, or at the least hedge against immediate repeats."
   ]
  },
  {
   "cell_type": "code",
   "execution_count": 28,
   "metadata": {
    "ExecuteTime": {
     "end_time": "2017-07-25T20:08:16.909940Z",
     "start_time": "2017-07-25T20:08:16.905326"
    },
    "collapsed": true
   },
   "outputs": [],
   "source": [
    "# Sentences we'll respond with if the user greeted us\n",
    "GREETING_KEYWORDS = (\"hello\", \"hi\", \"greetings\", \"sup\", \"what's up\", \"hola\")\n",
    "\n",
    "GREETING_RESPONSES = [\"What do ya want?\", \"Oh, hey.\", \"Let's make this quick. I only got about two humps left in me.\",\n",
    "                     \"You must want something.\", \"Hey, I was just about to go get some coffee.\"]\n",
    "\n",
    "def check_for_greeting(sentence):\n",
    "    \"\"\"If any of the words in the user's input was a greeting, return a greeting response\"\"\"\n",
    "    for word in sentence.words:\n",
    "        if word.lower() in GREETING_KEYWORDS:\n",
    "            return random.choice(GREETING_RESPONSES)\n"
   ]
  },
  {
   "cell_type": "code",
   "execution_count": 32,
   "metadata": {
    "ExecuteTime": {
     "end_time": "2017-07-25T20:08:53.198479Z",
     "start_time": "2017-07-25T20:08:53.194748"
    },
    "collapsed": false
   },
   "outputs": [
    {
     "name": "stdout",
     "output_type": "stream",
     "text": [
      "None\n",
      "None\n"
     ]
    }
   ],
   "source": [
    "print(check_for_greeting(sentences[0]))\n",
    "print(check_for_greeting(sentences[1]))"
   ]
  },
  {
   "cell_type": "markdown",
   "metadata": {},
   "source": [
    "### Repond to Comments about BillyBot"
   ]
  },
  {
   "cell_type": "code",
   "execution_count": 43,
   "metadata": {
    "ExecuteTime": {
     "end_time": "2017-07-25T20:25:46.800957Z",
     "start_time": "2017-07-25T20:25:46.790001"
    },
    "collapsed": true
   },
   "outputs": [],
   "source": [
    "def check_for_comment_about_bot(pronoun, noun, adjective):\n",
    "    \"\"\"Check if the user's input was about the bot itself, in which case try to fashion a response\n",
    "    that feels right based on their input. Returns the new best sentence, or None.\"\"\"\n",
    "    resp = None\n",
    "    if pronoun is not None:\n",
    "        if pronoun.lower() == 'i' and (noun or adjective):\n",
    "            if noun:\n",
    "                if random.choice((True, False)):\n",
    "                    resp = random.choice(SELF_VERBS_WITH_NOUN_CAPS_PLURAL).format(**{'noun': noun.pluralize().capitalize()})\n",
    "                else:\n",
    "                    resp = random.choice(SELF_VERBS_WITH_NOUN_LOWER).format(**{'noun': noun})\n",
    "            else:\n",
    "                resp = random.choice(SELF_VERBS_WITH_ADJECTIVE).format(**{'adjective': adjective})\n",
    "    return resp\n",
    "\n",
    "# Template for responses that include a direct noun which is indefinite/uncountable\n",
    "SELF_VERBS_WITH_NOUN_CAPS_PLURAL = [\n",
    "    \"My last startup totally crushed the {noun} vertical\",\n",
    "    \"Were you aware I was a serial entrepreneur in the {noun} sector?\",\n",
    "    \"My startup is Uber for {noun}\",\n",
    "    \"I really consider myself an expert on {noun}\",\n",
    "]\n",
    "\n",
    "SELF_VERBS_WITH_NOUN_LOWER = [\n",
    "    \"Yeah but I know a lot about {noun}\",\n",
    "    \"My bros always ask me about {noun}\",\n",
    "]\n",
    "\n",
    "SELF_VERBS_WITH_ADJECTIVE = [\n",
    "    \"Not as {adjective} as the last bass I caught.\",\n",
    "    \"I like my coffee like I like my fish: {adjective}.\",\n",
    "]"
   ]
  },
  {
   "cell_type": "code",
   "execution_count": 44,
   "metadata": {
    "ExecuteTime": {
     "end_time": "2017-07-25T20:25:47.323570Z",
     "start_time": "2017-07-25T20:25:47.317986"
    },
    "collapsed": false
   },
   "outputs": [
    {
     "name": "stderr",
     "output_type": "stream",
     "text": [
      "INFO:root:Pronoun=I, noun=None, adjective=cool, verb=('are', 'VBP')\n"
     ]
    },
    {
     "name": "stdout",
     "output_type": "stream",
     "text": [
      "I like my coffee like I like my fish: cool.\n"
     ]
    }
   ],
   "source": [
    "example_text = process_input_text('You are so cool.')\n",
    "pronoun, noun, adjective, verb = find_candidate_parts_of_speech(example_text)\n",
    "print(check_for_comment_about_bot(pronoun, noun, adjective))"
   ]
  },
  {
   "cell_type": "markdown",
   "metadata": {},
   "source": [
    "### Respond to Any Other Type of Input Text"
   ]
  },
  {
   "cell_type": "code",
   "execution_count": null,
   "metadata": {
    "collapsed": true
   },
   "outputs": [],
   "source": [
    "def construct_response(pronoun, noun, verb):\n",
    "    \"\"\"\n",
    "    No special cases matched, so we're going to try to construct a full sentence that uses as much\n",
    "    of the user's input as possible\n",
    "    \"\"\"\n",
    "    resp = []\n",
    "\n",
    "    if pronoun:\n",
    "        resp.append(pronoun)\n",
    "\n",
    "    # We always respond in the present tense, and the pronoun will always either be a passthrough\n",
    "    # from the user, or 'you' or 'I', in which case we might need to change the tense for some\n",
    "    # irregular verbs.\n",
    "    if verb:\n",
    "        verb_word = verb[0]\n",
    "        if verb_word in ('be', 'am', 'is', \"'m\"):  # This would be an excellent place to use lemmas!\n",
    "            if pronoun.lower() == 'you':\n",
    "                # The bot will always tell the person they aren't whatever they said they were\n",
    "                resp.append(\"aren't really\")\n",
    "            else:\n",
    "                resp.append(verb_word)\n",
    "    if noun:\n",
    "        pronoun = \"an\" if starts_with_vowel(noun) else \"a\"\n",
    "        resp.append(pronoun + \" \" + noun)\n",
    "\n",
    "    resp.append(random.choice((\"tho\", \"bro\", \"lol\", \"bruh\", \"smh\", \"\")))\n",
    "\n",
    "    return \" \".join(resp)\n",
    "\n",
    "\n",
    "# Sentences we'll respond with if we have no idea what the user just said\n",
    "NONE_RESPONSES = [\n",
    "    \"uh whatever\",\n",
    "    \"meet me at the foosball table, bro?\",\n",
    "    \"code hard bro\",\n",
    "    \"want to bro down and crush code?\",\n",
    "    \"I'd like to add you to my professional network on LinkedIn\",\n",
    "    \"Have you closed your seed round, dog?\",\n",
    "]"
   ]
  },
  {
   "cell_type": "markdown",
   "metadata": {},
   "source": [
    "### Hedge Against Hate Speech"
   ]
  },
  {
   "cell_type": "code",
   "execution_count": null,
   "metadata": {
    "collapsed": true
   },
   "outputs": [],
   "source": [
    "def filter_response(resp):\n",
    "    \"\"\"Don't allow any words to match our filter list\"\"\"\n",
    "    tokenized = resp.split(' ')\n",
    "    for word in tokenized:\n",
    "        if '@' in word or '#' in word or '!' in word:\n",
    "            raise UnacceptableUtteranceException()\n",
    "        for s in FILTER_WORDS:\n",
    "            if word.lower().startswith(s):\n",
    "                raise UnacceptableUtteranceException()"
   ]
  },
  {
   "cell_type": "markdown",
   "metadata": {},
   "source": [
    "### Don't Sound Stupid"
   ]
  },
  {
   "cell_type": "code",
   "execution_count": 8,
   "metadata": {
    "ExecuteTime": {
     "end_time": "2017-07-25T13:21:29.893015Z",
     "start_time": "2017-07-25T13:21:29.887932"
    },
    "collapsed": true
   },
   "outputs": [],
   "source": [
    "def starts_with_vowel(word):\n",
    "    \"\"\"Check for pronoun compability -- 'a' vs. 'an'\"\"\"\n",
    "    return True if word[0] in 'aeiou' else False"
   ]
  },
  {
   "cell_type": "markdown",
   "metadata": {
    "collapsed": true
   },
   "source": [
    "## Response Function"
   ]
  },
  {
   "cell_type": "code",
   "execution_count": null,
   "metadata": {
    "collapsed": true
   },
   "outputs": [],
   "source": [
    "def respond(input_text):\n",
    "    \"\"\"\n",
    "    Parse the user's inbound sentence and find candidate terms that make up a best-fit response\n",
    "    \"\"\"\n",
    "    cleaned = preprocess_text(input_text)\n",
    "    parsed = TextBlob(cleaned)\n",
    "\n",
    "    # Loop through all the sentences, if more than one. This will help extract the most relevant\n",
    "    # response text even across multiple sentences (for example if there was no obvious direct noun\n",
    "    # in one sentence\n",
    "    pronoun, noun, adjective, verb = find_candidate_parts_of_speech(parsed)\n",
    "\n",
    "    # If we said something about the bot and used some kind of direct noun, construct the\n",
    "    # sentence around that, discarding the other candidates\n",
    "    resp = check_for_comment_about_bot(pronoun, noun, adjective)\n",
    "\n",
    "    # If we just greeted the bot, we'll use a return greeting\n",
    "    if not resp:\n",
    "        resp = check_for_greeting(parsed)\n",
    "\n",
    "    if not resp:\n",
    "        # If we didn't override the final sentence, try to construct a new one:\n",
    "        if not pronoun:\n",
    "            resp = random.choice(NONE_RESPONSES)\n",
    "        elif pronoun == 'I' and not verb:\n",
    "            resp = random.choice(COMMENTS_ABOUT_SELF)\n",
    "        else:\n",
    "            resp = construct_response(pronoun, noun, verb)\n",
    "\n",
    "    # If we got through all that with nothing, use a random response\n",
    "    if not resp:\n",
    "        resp = random.choice(NONE_RESPONSES)\n",
    "\n",
    "    logger.info(\"Returning phrase '%s'\", resp)\n",
    "    # Check that we're not going to say anything obviously offensive\n",
    "    filter_response(resp)\n",
    "\n",
    "    return resp\n"
   ]
  }
 ],
 "metadata": {
  "kernelspec": {
   "display_name": "Python 3",
   "language": "python",
   "name": "python3"
  },
  "language_info": {
   "codemirror_mode": {
    "name": "ipython",
    "version": 3
   },
   "file_extension": ".py",
   "mimetype": "text/x-python",
   "name": "python",
   "nbconvert_exporter": "python",
   "pygments_lexer": "ipython3",
   "version": "3.6.0"
  },
  "latex_envs": {
   "LaTeX_envs_menu_present": true,
   "autocomplete": true,
   "bibliofile": "biblio.bib",
   "cite_by": "apalike",
   "current_citInitial": 1,
   "eqLabelWithNumbers": true,
   "eqNumInitial": 1,
   "hotkeys": {
    "equation": "Ctrl-E",
    "itemize": "Ctrl-I"
   },
   "labels_anchors": false,
   "latex_user_defs": false,
   "report_style_numbering": false,
   "user_envs_cfg": false
  }
 },
 "nbformat": 4,
 "nbformat_minor": 2
}
